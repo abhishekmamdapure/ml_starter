{
 "cells": [
  {
   "cell_type": "code",
   "execution_count": 115,
   "metadata": {},
   "outputs": [],
   "source": [
    "import pandas as pd\n",
    "import numpy as np\n",
    "pd.set_option('max_columns', 120)\n",
    "pd.set_option('max_colwidth', 5000)\n",
    "import matplotlib.pyplot as plt\n",
    "import seaborn as sns\n",
    "%matplotlib inline\n",
    "plt.rcParams['figure.figsize'] = (12,8)\n",
    "\n",
    "\n",
    "pd.set_option('display.max_columns',None)\n",
    "# set seed for reproducibility\n",
    "np.random.seed(0)"
   ]
  },
  {
   "cell_type": "code",
   "execution_count": 4,
   "metadata": {},
   "outputs": [],
   "source": [
    "train = pd.read_csv('train_HK6lq50.csv', low_memory=False)\n",
    "half_count = len(train) / 2\n",
    "train = train.dropna(thresh=half_count,axis=1) # Drop any column with more than 50% missing values\n",
    "train = train.drop(['id','program_id'],axis=1) # These columns are not useful for our purposes\n"
   ]
  },
  {
   "cell_type": "code",
   "execution_count": 5,
   "metadata": {},
   "outputs": [],
   "source": [
    "test = pd.read_csv('test_wF0Ps6O.csv', low_memory=False)\n",
    "# half_count = len(train) / 2\n",
    "# train = train.dropna(thresh=half_count,axis=1) # Drop any column with more than 50% missing values\n",
    "test = test.drop(['id','program_id'],axis=1) # These columns are not useful for our purposes\n"
   ]
  },
  {
   "cell_type": "code",
   "execution_count": 6,
   "metadata": {},
   "outputs": [
    {
     "name": "stdout",
     "output_type": "stream",
     "text": [
      "(73147, 14) \n",
      " (31349, 13)\n"
     ]
    }
   ],
   "source": [
    "print(train.shape,'\\n',test.shape)"
   ]
  },
  {
   "cell_type": "code",
   "execution_count": 7,
   "metadata": {},
   "outputs": [
    {
     "name": "stdout",
     "output_type": "stream",
     "text": [
      "['program_type', 'program_duration', 'test_id', 'test_type', 'difficulty_level', 'trainee_id', 'gender', 'education', 'city_tier', 'age', 'total_programs_enrolled', 'is_handicapped', 'trainee_engagement_rating', 'is_pass']\n"
     ]
    }
   ],
   "source": [
    "print(train.columns.to_list())"
   ]
  },
  {
   "cell_type": "code",
   "execution_count": 8,
   "metadata": {},
   "outputs": [],
   "source": [
    "#function to get the missing value from the dataset and also the percentage of the missing values \n",
    "def missing_val(data):\n",
    "    total_cells = np.product(data.shape)\n",
    "    total_missing_value = data.isnull().sum().sum()\n",
    "    # percent of data that is missing\n",
    "    percentage_missign_values_nfl = (total_missing_value/total_cells) * 100\n",
    "    print('====================================')\n",
    "    print(\"Percentage of missing value in the dataset is :\",(\"%.2f\" % round(percentage_missign_values_nfl, 2)),'%')\n",
    "    print('\\n=====Missing Values per coloumn=====')\n",
    "    return (data.isnull().sum(),'\\n')\n",
    "    "
   ]
  },
  {
   "cell_type": "code",
   "execution_count": 9,
   "metadata": {},
   "outputs": [
    {
     "name": "stdout",
     "output_type": "stream",
     "text": [
      "====================================\n",
      "Percentage of missing value in the dataset is : 2.72 %\n",
      "\n",
      "=====Missing Values per coloumn=====\n"
     ]
    },
    {
     "data": {
      "text/plain": [
       "(program_type                     0\n",
       " program_duration                 0\n",
       " test_id                          0\n",
       " test_type                        0\n",
       " difficulty_level                 0\n",
       " trainee_id                       0\n",
       " gender                           0\n",
       " education                        0\n",
       " city_tier                        0\n",
       " age                          27729\n",
       " total_programs_enrolled          0\n",
       " is_handicapped                   0\n",
       " trainee_engagement_rating       77\n",
       " is_pass                          0\n",
       " dtype: int64, '\\n')"
      ]
     },
     "execution_count": 9,
     "metadata": {},
     "output_type": "execute_result"
    }
   ],
   "source": [
    "missing_val(train)"
   ]
  },
  {
   "cell_type": "code",
   "execution_count": 10,
   "metadata": {},
   "outputs": [
    {
     "data": {
      "text/html": [
       "<div>\n",
       "<style scoped>\n",
       "    .dataframe tbody tr th:only-of-type {\n",
       "        vertical-align: middle;\n",
       "    }\n",
       "\n",
       "    .dataframe tbody tr th {\n",
       "        vertical-align: top;\n",
       "    }\n",
       "\n",
       "    .dataframe thead th {\n",
       "        text-align: right;\n",
       "    }\n",
       "</style>\n",
       "<table border=\"1\" class=\"dataframe\">\n",
       "  <thead>\n",
       "    <tr style=\"text-align: right;\">\n",
       "      <th></th>\n",
       "      <th>program_duration</th>\n",
       "      <th>test_id</th>\n",
       "      <th>trainee_id</th>\n",
       "      <th>city_tier</th>\n",
       "      <th>age</th>\n",
       "      <th>total_programs_enrolled</th>\n",
       "      <th>trainee_engagement_rating</th>\n",
       "      <th>is_pass</th>\n",
       "    </tr>\n",
       "  </thead>\n",
       "  <tbody>\n",
       "    <tr>\n",
       "      <td>count</td>\n",
       "      <td>73147.000000</td>\n",
       "      <td>73147.000000</td>\n",
       "      <td>73147.000000</td>\n",
       "      <td>73147.000000</td>\n",
       "      <td>45418.000000</td>\n",
       "      <td>73147.000000</td>\n",
       "      <td>73070.000000</td>\n",
       "      <td>73147.000000</td>\n",
       "    </tr>\n",
       "    <tr>\n",
       "      <td>mean</td>\n",
       "      <td>128.208676</td>\n",
       "      <td>91.079306</td>\n",
       "      <td>9843.079620</td>\n",
       "      <td>2.246845</td>\n",
       "      <td>36.494033</td>\n",
       "      <td>2.583934</td>\n",
       "      <td>2.395634</td>\n",
       "      <td>0.695408</td>\n",
       "    </tr>\n",
       "    <tr>\n",
       "      <td>std</td>\n",
       "      <td>6.889679</td>\n",
       "      <td>51.239048</td>\n",
       "      <td>5703.556093</td>\n",
       "      <td>1.011587</td>\n",
       "      <td>9.041119</td>\n",
       "      <td>1.240816</td>\n",
       "      <td>1.325288</td>\n",
       "      <td>0.460238</td>\n",
       "    </tr>\n",
       "    <tr>\n",
       "      <td>min</td>\n",
       "      <td>117.000000</td>\n",
       "      <td>0.000000</td>\n",
       "      <td>1.000000</td>\n",
       "      <td>1.000000</td>\n",
       "      <td>17.000000</td>\n",
       "      <td>1.000000</td>\n",
       "      <td>1.000000</td>\n",
       "      <td>0.000000</td>\n",
       "    </tr>\n",
       "    <tr>\n",
       "      <td>25%</td>\n",
       "      <td>121.000000</td>\n",
       "      <td>45.000000</td>\n",
       "      <td>5040.000000</td>\n",
       "      <td>1.000000</td>\n",
       "      <td>28.000000</td>\n",
       "      <td>2.000000</td>\n",
       "      <td>1.000000</td>\n",
       "      <td>0.000000</td>\n",
       "    </tr>\n",
       "    <tr>\n",
       "      <td>50%</td>\n",
       "      <td>131.000000</td>\n",
       "      <td>90.000000</td>\n",
       "      <td>9641.000000</td>\n",
       "      <td>2.000000</td>\n",
       "      <td>39.000000</td>\n",
       "      <td>2.000000</td>\n",
       "      <td>2.000000</td>\n",
       "      <td>1.000000</td>\n",
       "    </tr>\n",
       "    <tr>\n",
       "      <td>75%</td>\n",
       "      <td>134.000000</td>\n",
       "      <td>135.000000</td>\n",
       "      <td>14552.000000</td>\n",
       "      <td>3.000000</td>\n",
       "      <td>45.000000</td>\n",
       "      <td>3.000000</td>\n",
       "      <td>4.000000</td>\n",
       "      <td>1.000000</td>\n",
       "    </tr>\n",
       "    <tr>\n",
       "      <td>max</td>\n",
       "      <td>136.000000</td>\n",
       "      <td>187.000000</td>\n",
       "      <td>20098.000000</td>\n",
       "      <td>4.000000</td>\n",
       "      <td>63.000000</td>\n",
       "      <td>14.000000</td>\n",
       "      <td>5.000000</td>\n",
       "      <td>1.000000</td>\n",
       "    </tr>\n",
       "  </tbody>\n",
       "</table>\n",
       "</div>"
      ],
      "text/plain": [
       "       program_duration       test_id    trainee_id     city_tier  \\\n",
       "count      73147.000000  73147.000000  73147.000000  73147.000000   \n",
       "mean         128.208676     91.079306   9843.079620      2.246845   \n",
       "std            6.889679     51.239048   5703.556093      1.011587   \n",
       "min          117.000000      0.000000      1.000000      1.000000   \n",
       "25%          121.000000     45.000000   5040.000000      1.000000   \n",
       "50%          131.000000     90.000000   9641.000000      2.000000   \n",
       "75%          134.000000    135.000000  14552.000000      3.000000   \n",
       "max          136.000000    187.000000  20098.000000      4.000000   \n",
       "\n",
       "                age  total_programs_enrolled  trainee_engagement_rating  \\\n",
       "count  45418.000000             73147.000000               73070.000000   \n",
       "mean      36.494033                 2.583934                   2.395634   \n",
       "std        9.041119                 1.240816                   1.325288   \n",
       "min       17.000000                 1.000000                   1.000000   \n",
       "25%       28.000000                 2.000000                   1.000000   \n",
       "50%       39.000000                 2.000000                   2.000000   \n",
       "75%       45.000000                 3.000000                   4.000000   \n",
       "max       63.000000                14.000000                   5.000000   \n",
       "\n",
       "            is_pass  \n",
       "count  73147.000000  \n",
       "mean       0.695408  \n",
       "std        0.460238  \n",
       "min        0.000000  \n",
       "25%        0.000000  \n",
       "50%        1.000000  \n",
       "75%        1.000000  \n",
       "max        1.000000  "
      ]
     },
     "execution_count": 10,
     "metadata": {},
     "output_type": "execute_result"
    }
   ],
   "source": [
    "train.describe(include=[np.number])"
   ]
  },
  {
   "cell_type": "code",
   "execution_count": 11,
   "metadata": {},
   "outputs": [],
   "source": [
    "#imputing the missing values\n",
    "train['age'].fillna(method='bfill',inplace=True)\n",
    "train['trainee_engagement_rating'].fillna(value=1.0,inplace=True)"
   ]
  },
  {
   "cell_type": "code",
   "execution_count": 12,
   "metadata": {},
   "outputs": [],
   "source": [
    "dummy1 = pd.get_dummies(train['program_type'])\n",
    "dummy1.drop('S',axis=1,inplace=True)\n",
    "\n",
    "dummy2 = pd.get_dummies(train['test_type'])\n",
    "dummy2.drop('online',axis=1,inplace=True)\n",
    "\n",
    "dummy3 = pd.get_dummies(train['difficulty_level'])\n",
    "dummy3.drop('vary hard',axis=1,inplace=True)\n",
    "\n",
    "dummy4 = pd.get_dummies(train['gender'])\n",
    "dummy4.drop('M',axis=1,inplace=True)\n",
    "\n",
    "dummy5 = pd.get_dummies(train['education'])\n",
    "dummy5.drop('Masters',axis=1,inplace=True)\n",
    "\n",
    "dummy6 = pd.get_dummies(train['is_handicapped'])\n",
    "dummy6.drop('Y',axis=1,inplace=True)"
   ]
  },
  {
   "cell_type": "code",
   "execution_count": 13,
   "metadata": {},
   "outputs": [],
   "source": [
    "dummy = pd.concat([dummy1,dummy2,dummy3,dummy4,dummy5,dummy6],axis=1)\n",
    "\n",
    "train = pd.concat([train,dummy],axis=1)"
   ]
  },
  {
   "cell_type": "code",
   "execution_count": 14,
   "metadata": {},
   "outputs": [],
   "source": [
    "train.drop(['program_type','test_type','difficulty_level','gender','education','is_handicapped'],axis=1,inplace=True)"
   ]
  },
  {
   "cell_type": "code",
   "execution_count": 15,
   "metadata": {},
   "outputs": [
    {
     "data": {
      "text/plain": [
       "(73147, 24)"
      ]
     },
     "execution_count": 15,
     "metadata": {},
     "output_type": "execute_result"
    }
   ],
   "source": [
    "train.shape"
   ]
  },
  {
   "cell_type": "markdown",
   "metadata": {},
   "source": [
    "## Let us perform the same actions on the test dataset so as to match the shape "
   ]
  },
  {
   "cell_type": "code",
   "execution_count": 16,
   "metadata": {},
   "outputs": [
    {
     "data": {
      "text/plain": [
       "(31349, 13)"
      ]
     },
     "execution_count": 16,
     "metadata": {},
     "output_type": "execute_result"
    }
   ],
   "source": [
    "test.shape"
   ]
  },
  {
   "cell_type": "code",
   "execution_count": 17,
   "metadata": {},
   "outputs": [],
   "source": [
    "test['age'].fillna(method='bfill',inplace=True)\n",
    "test['trainee_engagement_rating'].fillna(value=1.0,inplace=True)"
   ]
  },
  {
   "cell_type": "code",
   "execution_count": 18,
   "metadata": {},
   "outputs": [
    {
     "name": "stdout",
     "output_type": "stream",
     "text": [
      "====================================\n",
      "Percentage of missing value in the dataset is : 0.00 %\n",
      "\n",
      "=====Missing Values per coloumn=====\n"
     ]
    },
    {
     "data": {
      "text/plain": [
       "(program_type                 0\n",
       " program_duration             0\n",
       " test_id                      0\n",
       " test_type                    0\n",
       " difficulty_level             0\n",
       " trainee_id                   0\n",
       " gender                       0\n",
       " education                    0\n",
       " city_tier                    0\n",
       " age                          0\n",
       " total_programs_enrolled      0\n",
       " is_handicapped               0\n",
       " trainee_engagement_rating    0\n",
       " dtype: int64, '\\n')"
      ]
     },
     "execution_count": 18,
     "metadata": {},
     "output_type": "execute_result"
    }
   ],
   "source": [
    "missing_val(test) # all the missing values are filled"
   ]
  },
  {
   "cell_type": "code",
   "execution_count": 19,
   "metadata": {},
   "outputs": [],
   "source": [
    "dummy1 = pd.get_dummies(test['program_type'])\n",
    "dummy1.drop('S',axis=1,inplace=True)\n",
    "\n",
    "dummy2 = pd.get_dummies(test['test_type'])\n",
    "dummy2.drop('online',axis=1,inplace=True)\n",
    "\n",
    "dummy3 = pd.get_dummies(test['difficulty_level'])\n",
    "dummy3.drop('vary hard',axis=1,inplace=True)\n",
    "\n",
    "dummy4 = pd.get_dummies(test['gender'])\n",
    "dummy4.drop('M',axis=1,inplace=True)\n",
    "\n",
    "dummy5 = pd.get_dummies(test['education'])\n",
    "dummy5.drop('Masters',axis=1,inplace=True)\n",
    "\n",
    "dummy6 = pd.get_dummies(test['is_handicapped'])\n",
    "dummy6.drop('Y',axis=1,inplace=True)"
   ]
  },
  {
   "cell_type": "code",
   "execution_count": 20,
   "metadata": {},
   "outputs": [],
   "source": [
    "dummy = pd.concat([dummy1,dummy2,dummy3,dummy4,dummy5,dummy6],axis=1)\n",
    "\n",
    "test = pd.concat([test,dummy],axis=1)"
   ]
  },
  {
   "cell_type": "code",
   "execution_count": 21,
   "metadata": {},
   "outputs": [],
   "source": [
    "test.drop(['program_type','test_type','difficulty_level','gender','education','is_handicapped'],axis=1,inplace=True)"
   ]
  },
  {
   "cell_type": "code",
   "execution_count": 22,
   "metadata": {},
   "outputs": [
    {
     "data": {
      "text/plain": [
       "(31349, 23)"
      ]
     },
     "execution_count": 22,
     "metadata": {},
     "output_type": "execute_result"
    }
   ],
   "source": [
    "test.shape"
   ]
  },
  {
   "cell_type": "markdown",
   "metadata": {},
   "source": [
    "## Let us build the model "
   ]
  },
  {
   "cell_type": "code",
   "execution_count": 64,
   "metadata": {},
   "outputs": [
    {
     "data": {
      "text/html": [
       "<div>\n",
       "<style scoped>\n",
       "    .dataframe tbody tr th:only-of-type {\n",
       "        vertical-align: middle;\n",
       "    }\n",
       "\n",
       "    .dataframe tbody tr th {\n",
       "        vertical-align: top;\n",
       "    }\n",
       "\n",
       "    .dataframe thead th {\n",
       "        text-align: right;\n",
       "    }\n",
       "</style>\n",
       "<table border=\"1\" class=\"dataframe\">\n",
       "  <thead>\n",
       "    <tr style=\"text-align: right;\">\n",
       "      <th></th>\n",
       "      <th>program_duration</th>\n",
       "      <th>test_id</th>\n",
       "      <th>trainee_id</th>\n",
       "      <th>city_tier</th>\n",
       "      <th>age</th>\n",
       "      <th>total_programs_enrolled</th>\n",
       "      <th>trainee_engagement_rating</th>\n",
       "      <th>T</th>\n",
       "      <th>U</th>\n",
       "      <th>V</th>\n",
       "      <th>X</th>\n",
       "      <th>Y</th>\n",
       "      <th>Z</th>\n",
       "      <th>offline</th>\n",
       "      <th>easy</th>\n",
       "      <th>hard</th>\n",
       "      <th>intermediate</th>\n",
       "      <th>F</th>\n",
       "      <th>Bachelors</th>\n",
       "      <th>High School Diploma</th>\n",
       "      <th>Matriculation</th>\n",
       "      <th>No Qualification</th>\n",
       "      <th>N</th>\n",
       "    </tr>\n",
       "  </thead>\n",
       "  <tbody>\n",
       "    <tr>\n",
       "      <td>program_duration</td>\n",
       "      <td>1.000000</td>\n",
       "      <td>0.204855</td>\n",
       "      <td>0.148651</td>\n",
       "      <td>-0.022368</td>\n",
       "      <td>-0.011587</td>\n",
       "      <td>-0.010128</td>\n",
       "      <td>0.098739</td>\n",
       "      <td>-0.192647</td>\n",
       "      <td>0.054055</td>\n",
       "      <td>-0.075177</td>\n",
       "      <td>0.110660</td>\n",
       "      <td>0.112389</td>\n",
       "      <td>0.014810</td>\n",
       "      <td>0.071348</td>\n",
       "      <td>-0.054852</td>\n",
       "      <td>0.145995</td>\n",
       "      <td>-0.057659</td>\n",
       "      <td>-0.113637</td>\n",
       "      <td>0.013227</td>\n",
       "      <td>-0.006534</td>\n",
       "      <td>0.002050</td>\n",
       "      <td>-0.024284</td>\n",
       "      <td>0.009341</td>\n",
       "    </tr>\n",
       "    <tr>\n",
       "      <td>test_id</td>\n",
       "      <td>0.204855</td>\n",
       "      <td>1.000000</td>\n",
       "      <td>0.148945</td>\n",
       "      <td>-0.001891</td>\n",
       "      <td>-0.018409</td>\n",
       "      <td>-0.134198</td>\n",
       "      <td>0.323929</td>\n",
       "      <td>-0.707270</td>\n",
       "      <td>-0.227115</td>\n",
       "      <td>-0.065521</td>\n",
       "      <td>0.065901</td>\n",
       "      <td>0.595847</td>\n",
       "      <td>0.502388</td>\n",
       "      <td>-0.189007</td>\n",
       "      <td>0.141249</td>\n",
       "      <td>0.156889</td>\n",
       "      <td>-0.261721</td>\n",
       "      <td>-0.284986</td>\n",
       "      <td>-0.060095</td>\n",
       "      <td>-0.032159</td>\n",
       "      <td>0.080843</td>\n",
       "      <td>0.001125</td>\n",
       "      <td>-0.027875</td>\n",
       "    </tr>\n",
       "    <tr>\n",
       "      <td>trainee_id</td>\n",
       "      <td>0.148651</td>\n",
       "      <td>0.148945</td>\n",
       "      <td>1.000000</td>\n",
       "      <td>-0.010190</td>\n",
       "      <td>0.069583</td>\n",
       "      <td>-0.074630</td>\n",
       "      <td>0.031083</td>\n",
       "      <td>-0.057572</td>\n",
       "      <td>0.038668</td>\n",
       "      <td>-0.053997</td>\n",
       "      <td>0.044800</td>\n",
       "      <td>0.008027</td>\n",
       "      <td>0.088112</td>\n",
       "      <td>0.027435</td>\n",
       "      <td>0.005548</td>\n",
       "      <td>0.062512</td>\n",
       "      <td>-0.058477</td>\n",
       "      <td>-0.022971</td>\n",
       "      <td>0.036559</td>\n",
       "      <td>-0.030984</td>\n",
       "      <td>0.005436</td>\n",
       "      <td>0.004801</td>\n",
       "      <td>0.017874</td>\n",
       "    </tr>\n",
       "    <tr>\n",
       "      <td>city_tier</td>\n",
       "      <td>-0.022368</td>\n",
       "      <td>-0.001891</td>\n",
       "      <td>-0.010190</td>\n",
       "      <td>1.000000</td>\n",
       "      <td>-0.044009</td>\n",
       "      <td>0.016746</td>\n",
       "      <td>-0.052688</td>\n",
       "      <td>0.063962</td>\n",
       "      <td>-0.040392</td>\n",
       "      <td>-0.026112</td>\n",
       "      <td>-0.031291</td>\n",
       "      <td>-0.009564</td>\n",
       "      <td>0.038399</td>\n",
       "      <td>-0.011905</td>\n",
       "      <td>0.025615</td>\n",
       "      <td>-0.023306</td>\n",
       "      <td>-0.003146</td>\n",
       "      <td>0.069017</td>\n",
       "      <td>-0.062149</td>\n",
       "      <td>-0.022944</td>\n",
       "      <td>0.070832</td>\n",
       "      <td>0.063279</td>\n",
       "      <td>-0.060323</td>\n",
       "    </tr>\n",
       "    <tr>\n",
       "      <td>age</td>\n",
       "      <td>-0.011587</td>\n",
       "      <td>-0.018409</td>\n",
       "      <td>0.069583</td>\n",
       "      <td>-0.044009</td>\n",
       "      <td>1.000000</td>\n",
       "      <td>-0.044017</td>\n",
       "      <td>0.114241</td>\n",
       "      <td>0.028079</td>\n",
       "      <td>-0.003108</td>\n",
       "      <td>-0.032194</td>\n",
       "      <td>-0.041276</td>\n",
       "      <td>-0.006033</td>\n",
       "      <td>0.025113</td>\n",
       "      <td>-0.031583</td>\n",
       "      <td>0.021373</td>\n",
       "      <td>-0.018228</td>\n",
       "      <td>-0.007692</td>\n",
       "      <td>0.016918</td>\n",
       "      <td>0.097556</td>\n",
       "      <td>-0.077900</td>\n",
       "      <td>-0.000072</td>\n",
       "      <td>-0.015095</td>\n",
       "      <td>0.020030</td>\n",
       "    </tr>\n",
       "    <tr>\n",
       "      <td>total_programs_enrolled</td>\n",
       "      <td>-0.010128</td>\n",
       "      <td>-0.134198</td>\n",
       "      <td>-0.074630</td>\n",
       "      <td>0.016746</td>\n",
       "      <td>-0.044017</td>\n",
       "      <td>1.000000</td>\n",
       "      <td>0.083631</td>\n",
       "      <td>0.063333</td>\n",
       "      <td>-0.027738</td>\n",
       "      <td>0.042660</td>\n",
       "      <td>-0.071499</td>\n",
       "      <td>0.173614</td>\n",
       "      <td>-0.357196</td>\n",
       "      <td>0.017638</td>\n",
       "      <td>-0.073066</td>\n",
       "      <td>0.020790</td>\n",
       "      <td>0.064855</td>\n",
       "      <td>-0.059886</td>\n",
       "      <td>0.015105</td>\n",
       "      <td>0.055932</td>\n",
       "      <td>-0.067094</td>\n",
       "      <td>0.001564</td>\n",
       "      <td>-0.029886</td>\n",
       "    </tr>\n",
       "    <tr>\n",
       "      <td>trainee_engagement_rating</td>\n",
       "      <td>0.098739</td>\n",
       "      <td>0.323929</td>\n",
       "      <td>0.031083</td>\n",
       "      <td>-0.052688</td>\n",
       "      <td>0.114241</td>\n",
       "      <td>0.083631</td>\n",
       "      <td>1.000000</td>\n",
       "      <td>-0.340605</td>\n",
       "      <td>-0.029033</td>\n",
       "      <td>-0.130310</td>\n",
       "      <td>0.024562</td>\n",
       "      <td>0.586097</td>\n",
       "      <td>-0.241097</td>\n",
       "      <td>-0.113380</td>\n",
       "      <td>-0.047203</td>\n",
       "      <td>0.172714</td>\n",
       "      <td>-0.075525</td>\n",
       "      <td>-0.267887</td>\n",
       "      <td>0.062283</td>\n",
       "      <td>-0.015002</td>\n",
       "      <td>-0.032621</td>\n",
       "      <td>-0.013781</td>\n",
       "      <td>0.034080</td>\n",
       "    </tr>\n",
       "    <tr>\n",
       "      <td>T</td>\n",
       "      <td>-0.192647</td>\n",
       "      <td>-0.707270</td>\n",
       "      <td>-0.057572</td>\n",
       "      <td>0.063962</td>\n",
       "      <td>0.028079</td>\n",
       "      <td>0.063333</td>\n",
       "      <td>-0.340605</td>\n",
       "      <td>1.000000</td>\n",
       "      <td>-0.201016</td>\n",
       "      <td>-0.270405</td>\n",
       "      <td>-0.126837</td>\n",
       "      <td>-0.387965</td>\n",
       "      <td>-0.183399</td>\n",
       "      <td>0.034775</td>\n",
       "      <td>0.001699</td>\n",
       "      <td>-0.132795</td>\n",
       "      <td>0.137407</td>\n",
       "      <td>0.488979</td>\n",
       "      <td>-0.037279</td>\n",
       "      <td>-0.006888</td>\n",
       "      <td>0.037590</td>\n",
       "      <td>0.015560</td>\n",
       "      <td>-0.000013</td>\n",
       "    </tr>\n",
       "    <tr>\n",
       "      <td>U</td>\n",
       "      <td>0.054055</td>\n",
       "      <td>-0.227115</td>\n",
       "      <td>0.038668</td>\n",
       "      <td>-0.040392</td>\n",
       "      <td>-0.003108</td>\n",
       "      <td>-0.027738</td>\n",
       "      <td>-0.029033</td>\n",
       "      <td>-0.201016</td>\n",
       "      <td>1.000000</td>\n",
       "      <td>-0.161050</td>\n",
       "      <td>-0.075543</td>\n",
       "      <td>-0.231067</td>\n",
       "      <td>-0.109230</td>\n",
       "      <td>-0.072079</td>\n",
       "      <td>0.061902</td>\n",
       "      <td>-0.140052</td>\n",
       "      <td>-0.017280</td>\n",
       "      <td>-0.151336</td>\n",
       "      <td>0.091106</td>\n",
       "      <td>0.017285</td>\n",
       "      <td>-0.095991</td>\n",
       "      <td>-0.007922</td>\n",
       "      <td>0.022200</td>\n",
       "    </tr>\n",
       "    <tr>\n",
       "      <td>V</td>\n",
       "      <td>-0.075177</td>\n",
       "      <td>-0.065521</td>\n",
       "      <td>-0.053997</td>\n",
       "      <td>-0.026112</td>\n",
       "      <td>-0.032194</td>\n",
       "      <td>0.042660</td>\n",
       "      <td>-0.130310</td>\n",
       "      <td>-0.270405</td>\n",
       "      <td>-0.161050</td>\n",
       "      <td>1.000000</td>\n",
       "      <td>-0.101619</td>\n",
       "      <td>-0.310830</td>\n",
       "      <td>-0.146935</td>\n",
       "      <td>0.223106</td>\n",
       "      <td>-0.103947</td>\n",
       "      <td>-0.051226</td>\n",
       "      <td>0.082443</td>\n",
       "      <td>-0.056645</td>\n",
       "      <td>0.032189</td>\n",
       "      <td>0.033701</td>\n",
       "      <td>-0.058583</td>\n",
       "      <td>-0.007925</td>\n",
       "      <td>-0.013261</td>\n",
       "    </tr>\n",
       "    <tr>\n",
       "      <td>X</td>\n",
       "      <td>0.110660</td>\n",
       "      <td>0.065901</td>\n",
       "      <td>0.044800</td>\n",
       "      <td>-0.031291</td>\n",
       "      <td>-0.041276</td>\n",
       "      <td>-0.071499</td>\n",
       "      <td>0.024562</td>\n",
       "      <td>-0.126837</td>\n",
       "      <td>-0.075543</td>\n",
       "      <td>-0.101619</td>\n",
       "      <td>1.000000</td>\n",
       "      <td>-0.145799</td>\n",
       "      <td>-0.068922</td>\n",
       "      <td>0.180020</td>\n",
       "      <td>-0.240504</td>\n",
       "      <td>0.352268</td>\n",
       "      <td>0.007527</td>\n",
       "      <td>-0.154867</td>\n",
       "      <td>0.025176</td>\n",
       "      <td>-0.005099</td>\n",
       "      <td>-0.013634</td>\n",
       "      <td>-0.012083</td>\n",
       "      <td>0.034398</td>\n",
       "    </tr>\n",
       "    <tr>\n",
       "      <td>Y</td>\n",
       "      <td>0.112389</td>\n",
       "      <td>0.595847</td>\n",
       "      <td>0.008027</td>\n",
       "      <td>-0.009564</td>\n",
       "      <td>-0.006033</td>\n",
       "      <td>0.173614</td>\n",
       "      <td>0.586097</td>\n",
       "      <td>-0.387965</td>\n",
       "      <td>-0.231067</td>\n",
       "      <td>-0.310830</td>\n",
       "      <td>-0.145799</td>\n",
       "      <td>1.000000</td>\n",
       "      <td>-0.210816</td>\n",
       "      <td>-0.194464</td>\n",
       "      <td>-0.000770</td>\n",
       "      <td>0.177053</td>\n",
       "      <td>-0.093715</td>\n",
       "      <td>-0.378301</td>\n",
       "      <td>-0.011094</td>\n",
       "      <td>0.006957</td>\n",
       "      <td>0.004320</td>\n",
       "      <td>-0.011881</td>\n",
       "      <td>0.012146</td>\n",
       "    </tr>\n",
       "    <tr>\n",
       "      <td>Z</td>\n",
       "      <td>0.014810</td>\n",
       "      <td>0.502388</td>\n",
       "      <td>0.088112</td>\n",
       "      <td>0.038399</td>\n",
       "      <td>0.025113</td>\n",
       "      <td>-0.357196</td>\n",
       "      <td>-0.241097</td>\n",
       "      <td>-0.183399</td>\n",
       "      <td>-0.109230</td>\n",
       "      <td>-0.146935</td>\n",
       "      <td>-0.068922</td>\n",
       "      <td>-0.210816</td>\n",
       "      <td>1.000000</td>\n",
       "      <td>-0.142245</td>\n",
       "      <td>0.286574</td>\n",
       "      <td>-0.127778</td>\n",
       "      <td>-0.198112</td>\n",
       "      <td>0.224936</td>\n",
       "      <td>-0.101825</td>\n",
       "      <td>-0.066877</td>\n",
       "      <td>0.146084</td>\n",
       "      <td>0.028744</td>\n",
       "      <td>-0.059558</td>\n",
       "    </tr>\n",
       "    <tr>\n",
       "      <td>offline</td>\n",
       "      <td>0.071348</td>\n",
       "      <td>-0.189007</td>\n",
       "      <td>0.027435</td>\n",
       "      <td>-0.011905</td>\n",
       "      <td>-0.031583</td>\n",
       "      <td>0.017638</td>\n",
       "      <td>-0.113380</td>\n",
       "      <td>0.034775</td>\n",
       "      <td>-0.072079</td>\n",
       "      <td>0.223106</td>\n",
       "      <td>0.180020</td>\n",
       "      <td>-0.194464</td>\n",
       "      <td>-0.142245</td>\n",
       "      <td>1.000000</td>\n",
       "      <td>-0.748510</td>\n",
       "      <td>0.333748</td>\n",
       "      <td>0.517455</td>\n",
       "      <td>-0.000360</td>\n",
       "      <td>0.018621</td>\n",
       "      <td>0.008126</td>\n",
       "      <td>-0.021900</td>\n",
       "      <td>-0.003659</td>\n",
       "      <td>0.014027</td>\n",
       "    </tr>\n",
       "    <tr>\n",
       "      <td>easy</td>\n",
       "      <td>-0.054852</td>\n",
       "      <td>0.141249</td>\n",
       "      <td>0.005548</td>\n",
       "      <td>0.025615</td>\n",
       "      <td>0.021373</td>\n",
       "      <td>-0.073066</td>\n",
       "      <td>-0.047203</td>\n",
       "      <td>0.001699</td>\n",
       "      <td>0.061902</td>\n",
       "      <td>-0.103947</td>\n",
       "      <td>-0.240504</td>\n",
       "      <td>-0.000770</td>\n",
       "      <td>0.286574</td>\n",
       "      <td>-0.748510</td>\n",
       "      <td>1.000000</td>\n",
       "      <td>-0.445883</td>\n",
       "      <td>-0.691313</td>\n",
       "      <td>0.093411</td>\n",
       "      <td>-0.034314</td>\n",
       "      <td>-0.021413</td>\n",
       "      <td>0.047022</td>\n",
       "      <td>0.011909</td>\n",
       "      <td>-0.031432</td>\n",
       "    </tr>\n",
       "    <tr>\n",
       "      <td>hard</td>\n",
       "      <td>0.145995</td>\n",
       "      <td>0.156889</td>\n",
       "      <td>0.062512</td>\n",
       "      <td>-0.023306</td>\n",
       "      <td>-0.018228</td>\n",
       "      <td>0.020790</td>\n",
       "      <td>0.172714</td>\n",
       "      <td>-0.132795</td>\n",
       "      <td>-0.140052</td>\n",
       "      <td>-0.051226</td>\n",
       "      <td>0.352268</td>\n",
       "      <td>0.177053</td>\n",
       "      <td>-0.127778</td>\n",
       "      <td>0.333748</td>\n",
       "      <td>-0.445883</td>\n",
       "      <td>1.000000</td>\n",
       "      <td>-0.254015</td>\n",
       "      <td>-0.154197</td>\n",
       "      <td>0.019246</td>\n",
       "      <td>0.006502</td>\n",
       "      <td>-0.018275</td>\n",
       "      <td>-0.012874</td>\n",
       "      <td>0.029403</td>\n",
       "    </tr>\n",
       "    <tr>\n",
       "      <td>intermediate</td>\n",
       "      <td>-0.057659</td>\n",
       "      <td>-0.261721</td>\n",
       "      <td>-0.058477</td>\n",
       "      <td>-0.003146</td>\n",
       "      <td>-0.007692</td>\n",
       "      <td>0.064855</td>\n",
       "      <td>-0.075525</td>\n",
       "      <td>0.137407</td>\n",
       "      <td>-0.017280</td>\n",
       "      <td>0.082443</td>\n",
       "      <td>0.007527</td>\n",
       "      <td>-0.093715</td>\n",
       "      <td>-0.198112</td>\n",
       "      <td>0.517455</td>\n",
       "      <td>-0.691313</td>\n",
       "      <td>-0.254015</td>\n",
       "      <td>1.000000</td>\n",
       "      <td>0.030054</td>\n",
       "      <td>0.012122</td>\n",
       "      <td>0.011275</td>\n",
       "      <td>-0.021738</td>\n",
       "      <td>-0.000448</td>\n",
       "      <td>0.009280</td>\n",
       "    </tr>\n",
       "    <tr>\n",
       "      <td>F</td>\n",
       "      <td>-0.113637</td>\n",
       "      <td>-0.284986</td>\n",
       "      <td>-0.022971</td>\n",
       "      <td>0.069017</td>\n",
       "      <td>0.016918</td>\n",
       "      <td>-0.059886</td>\n",
       "      <td>-0.267887</td>\n",
       "      <td>0.488979</td>\n",
       "      <td>-0.151336</td>\n",
       "      <td>-0.056645</td>\n",
       "      <td>-0.154867</td>\n",
       "      <td>-0.378301</td>\n",
       "      <td>0.224936</td>\n",
       "      <td>-0.000360</td>\n",
       "      <td>0.093411</td>\n",
       "      <td>-0.154197</td>\n",
       "      <td>0.030054</td>\n",
       "      <td>1.000000</td>\n",
       "      <td>-0.063700</td>\n",
       "      <td>0.002630</td>\n",
       "      <td>0.045851</td>\n",
       "      <td>0.028986</td>\n",
       "      <td>-0.048193</td>\n",
       "    </tr>\n",
       "    <tr>\n",
       "      <td>Bachelors</td>\n",
       "      <td>0.013227</td>\n",
       "      <td>-0.060095</td>\n",
       "      <td>0.036559</td>\n",
       "      <td>-0.062149</td>\n",
       "      <td>0.097556</td>\n",
       "      <td>0.015105</td>\n",
       "      <td>0.062283</td>\n",
       "      <td>-0.037279</td>\n",
       "      <td>0.091106</td>\n",
       "      <td>0.032189</td>\n",
       "      <td>0.025176</td>\n",
       "      <td>-0.011094</td>\n",
       "      <td>-0.101825</td>\n",
       "      <td>0.018621</td>\n",
       "      <td>-0.034314</td>\n",
       "      <td>0.019246</td>\n",
       "      <td>0.012122</td>\n",
       "      <td>-0.063700</td>\n",
       "      <td>1.000000</td>\n",
       "      <td>-0.408336</td>\n",
       "      <td>-0.323705</td>\n",
       "      <td>-0.036485</td>\n",
       "      <td>0.081103</td>\n",
       "    </tr>\n",
       "    <tr>\n",
       "      <td>High School Diploma</td>\n",
       "      <td>-0.006534</td>\n",
       "      <td>-0.032159</td>\n",
       "      <td>-0.030984</td>\n",
       "      <td>-0.022944</td>\n",
       "      <td>-0.077900</td>\n",
       "      <td>0.055932</td>\n",
       "      <td>-0.015002</td>\n",
       "      <td>-0.006888</td>\n",
       "      <td>0.017285</td>\n",
       "      <td>0.033701</td>\n",
       "      <td>-0.005099</td>\n",
       "      <td>0.006957</td>\n",
       "      <td>-0.066877</td>\n",
       "      <td>0.008126</td>\n",
       "      <td>-0.021413</td>\n",
       "      <td>0.006502</td>\n",
       "      <td>0.011275</td>\n",
       "      <td>0.002630</td>\n",
       "      <td>-0.408336</td>\n",
       "      <td>1.000000</td>\n",
       "      <td>-0.702685</td>\n",
       "      <td>-0.079201</td>\n",
       "      <td>-0.007073</td>\n",
       "    </tr>\n",
       "    <tr>\n",
       "      <td>Matriculation</td>\n",
       "      <td>0.002050</td>\n",
       "      <td>0.080843</td>\n",
       "      <td>0.005436</td>\n",
       "      <td>0.070832</td>\n",
       "      <td>-0.000072</td>\n",
       "      <td>-0.067094</td>\n",
       "      <td>-0.032621</td>\n",
       "      <td>0.037590</td>\n",
       "      <td>-0.095991</td>\n",
       "      <td>-0.058583</td>\n",
       "      <td>-0.013634</td>\n",
       "      <td>0.004320</td>\n",
       "      <td>0.146084</td>\n",
       "      <td>-0.021900</td>\n",
       "      <td>0.047022</td>\n",
       "      <td>-0.018275</td>\n",
       "      <td>-0.021738</td>\n",
       "      <td>0.045851</td>\n",
       "      <td>-0.323705</td>\n",
       "      <td>-0.702685</td>\n",
       "      <td>1.000000</td>\n",
       "      <td>-0.062786</td>\n",
       "      <td>-0.062396</td>\n",
       "    </tr>\n",
       "    <tr>\n",
       "      <td>No Qualification</td>\n",
       "      <td>-0.024284</td>\n",
       "      <td>0.001125</td>\n",
       "      <td>0.004801</td>\n",
       "      <td>0.063279</td>\n",
       "      <td>-0.015095</td>\n",
       "      <td>0.001564</td>\n",
       "      <td>-0.013781</td>\n",
       "      <td>0.015560</td>\n",
       "      <td>-0.007922</td>\n",
       "      <td>-0.007925</td>\n",
       "      <td>-0.012083</td>\n",
       "      <td>-0.011881</td>\n",
       "      <td>0.028744</td>\n",
       "      <td>-0.003659</td>\n",
       "      <td>0.011909</td>\n",
       "      <td>-0.012874</td>\n",
       "      <td>-0.000448</td>\n",
       "      <td>0.028986</td>\n",
       "      <td>-0.036485</td>\n",
       "      <td>-0.079201</td>\n",
       "      <td>-0.062786</td>\n",
       "      <td>1.000000</td>\n",
       "      <td>0.019557</td>\n",
       "    </tr>\n",
       "    <tr>\n",
       "      <td>N</td>\n",
       "      <td>0.009341</td>\n",
       "      <td>-0.027875</td>\n",
       "      <td>0.017874</td>\n",
       "      <td>-0.060323</td>\n",
       "      <td>0.020030</td>\n",
       "      <td>-0.029886</td>\n",
       "      <td>0.034080</td>\n",
       "      <td>-0.000013</td>\n",
       "      <td>0.022200</td>\n",
       "      <td>-0.013261</td>\n",
       "      <td>0.034398</td>\n",
       "      <td>0.012146</td>\n",
       "      <td>-0.059558</td>\n",
       "      <td>0.014027</td>\n",
       "      <td>-0.031432</td>\n",
       "      <td>0.029403</td>\n",
       "      <td>0.009280</td>\n",
       "      <td>-0.048193</td>\n",
       "      <td>0.081103</td>\n",
       "      <td>-0.007073</td>\n",
       "      <td>-0.062396</td>\n",
       "      <td>0.019557</td>\n",
       "      <td>1.000000</td>\n",
       "    </tr>\n",
       "  </tbody>\n",
       "</table>\n",
       "</div>"
      ],
      "text/plain": [
       "                           program_duration   test_id  trainee_id  city_tier  \\\n",
       "program_duration                   1.000000  0.204855    0.148651  -0.022368   \n",
       "test_id                            0.204855  1.000000    0.148945  -0.001891   \n",
       "trainee_id                         0.148651  0.148945    1.000000  -0.010190   \n",
       "city_tier                         -0.022368 -0.001891   -0.010190   1.000000   \n",
       "age                               -0.011587 -0.018409    0.069583  -0.044009   \n",
       "total_programs_enrolled           -0.010128 -0.134198   -0.074630   0.016746   \n",
       "trainee_engagement_rating          0.098739  0.323929    0.031083  -0.052688   \n",
       "T                                 -0.192647 -0.707270   -0.057572   0.063962   \n",
       "U                                  0.054055 -0.227115    0.038668  -0.040392   \n",
       "V                                 -0.075177 -0.065521   -0.053997  -0.026112   \n",
       "X                                  0.110660  0.065901    0.044800  -0.031291   \n",
       "Y                                  0.112389  0.595847    0.008027  -0.009564   \n",
       "Z                                  0.014810  0.502388    0.088112   0.038399   \n",
       "offline                            0.071348 -0.189007    0.027435  -0.011905   \n",
       "easy                              -0.054852  0.141249    0.005548   0.025615   \n",
       "hard                               0.145995  0.156889    0.062512  -0.023306   \n",
       "intermediate                      -0.057659 -0.261721   -0.058477  -0.003146   \n",
       "F                                 -0.113637 -0.284986   -0.022971   0.069017   \n",
       "Bachelors                          0.013227 -0.060095    0.036559  -0.062149   \n",
       "High School Diploma               -0.006534 -0.032159   -0.030984  -0.022944   \n",
       "Matriculation                      0.002050  0.080843    0.005436   0.070832   \n",
       "No Qualification                  -0.024284  0.001125    0.004801   0.063279   \n",
       "N                                  0.009341 -0.027875    0.017874  -0.060323   \n",
       "\n",
       "                                age  total_programs_enrolled  \\\n",
       "program_duration          -0.011587                -0.010128   \n",
       "test_id                   -0.018409                -0.134198   \n",
       "trainee_id                 0.069583                -0.074630   \n",
       "city_tier                 -0.044009                 0.016746   \n",
       "age                        1.000000                -0.044017   \n",
       "total_programs_enrolled   -0.044017                 1.000000   \n",
       "trainee_engagement_rating  0.114241                 0.083631   \n",
       "T                          0.028079                 0.063333   \n",
       "U                         -0.003108                -0.027738   \n",
       "V                         -0.032194                 0.042660   \n",
       "X                         -0.041276                -0.071499   \n",
       "Y                         -0.006033                 0.173614   \n",
       "Z                          0.025113                -0.357196   \n",
       "offline                   -0.031583                 0.017638   \n",
       "easy                       0.021373                -0.073066   \n",
       "hard                      -0.018228                 0.020790   \n",
       "intermediate              -0.007692                 0.064855   \n",
       "F                          0.016918                -0.059886   \n",
       "Bachelors                  0.097556                 0.015105   \n",
       "High School Diploma       -0.077900                 0.055932   \n",
       "Matriculation             -0.000072                -0.067094   \n",
       "No Qualification          -0.015095                 0.001564   \n",
       "N                          0.020030                -0.029886   \n",
       "\n",
       "                           trainee_engagement_rating         T         U  \\\n",
       "program_duration                            0.098739 -0.192647  0.054055   \n",
       "test_id                                     0.323929 -0.707270 -0.227115   \n",
       "trainee_id                                  0.031083 -0.057572  0.038668   \n",
       "city_tier                                  -0.052688  0.063962 -0.040392   \n",
       "age                                         0.114241  0.028079 -0.003108   \n",
       "total_programs_enrolled                     0.083631  0.063333 -0.027738   \n",
       "trainee_engagement_rating                   1.000000 -0.340605 -0.029033   \n",
       "T                                          -0.340605  1.000000 -0.201016   \n",
       "U                                          -0.029033 -0.201016  1.000000   \n",
       "V                                          -0.130310 -0.270405 -0.161050   \n",
       "X                                           0.024562 -0.126837 -0.075543   \n",
       "Y                                           0.586097 -0.387965 -0.231067   \n",
       "Z                                          -0.241097 -0.183399 -0.109230   \n",
       "offline                                    -0.113380  0.034775 -0.072079   \n",
       "easy                                       -0.047203  0.001699  0.061902   \n",
       "hard                                        0.172714 -0.132795 -0.140052   \n",
       "intermediate                               -0.075525  0.137407 -0.017280   \n",
       "F                                          -0.267887  0.488979 -0.151336   \n",
       "Bachelors                                   0.062283 -0.037279  0.091106   \n",
       "High School Diploma                        -0.015002 -0.006888  0.017285   \n",
       "Matriculation                              -0.032621  0.037590 -0.095991   \n",
       "No Qualification                           -0.013781  0.015560 -0.007922   \n",
       "N                                           0.034080 -0.000013  0.022200   \n",
       "\n",
       "                                  V         X         Y         Z   offline  \\\n",
       "program_duration          -0.075177  0.110660  0.112389  0.014810  0.071348   \n",
       "test_id                   -0.065521  0.065901  0.595847  0.502388 -0.189007   \n",
       "trainee_id                -0.053997  0.044800  0.008027  0.088112  0.027435   \n",
       "city_tier                 -0.026112 -0.031291 -0.009564  0.038399 -0.011905   \n",
       "age                       -0.032194 -0.041276 -0.006033  0.025113 -0.031583   \n",
       "total_programs_enrolled    0.042660 -0.071499  0.173614 -0.357196  0.017638   \n",
       "trainee_engagement_rating -0.130310  0.024562  0.586097 -0.241097 -0.113380   \n",
       "T                         -0.270405 -0.126837 -0.387965 -0.183399  0.034775   \n",
       "U                         -0.161050 -0.075543 -0.231067 -0.109230 -0.072079   \n",
       "V                          1.000000 -0.101619 -0.310830 -0.146935  0.223106   \n",
       "X                         -0.101619  1.000000 -0.145799 -0.068922  0.180020   \n",
       "Y                         -0.310830 -0.145799  1.000000 -0.210816 -0.194464   \n",
       "Z                         -0.146935 -0.068922 -0.210816  1.000000 -0.142245   \n",
       "offline                    0.223106  0.180020 -0.194464 -0.142245  1.000000   \n",
       "easy                      -0.103947 -0.240504 -0.000770  0.286574 -0.748510   \n",
       "hard                      -0.051226  0.352268  0.177053 -0.127778  0.333748   \n",
       "intermediate               0.082443  0.007527 -0.093715 -0.198112  0.517455   \n",
       "F                         -0.056645 -0.154867 -0.378301  0.224936 -0.000360   \n",
       "Bachelors                  0.032189  0.025176 -0.011094 -0.101825  0.018621   \n",
       "High School Diploma        0.033701 -0.005099  0.006957 -0.066877  0.008126   \n",
       "Matriculation             -0.058583 -0.013634  0.004320  0.146084 -0.021900   \n",
       "No Qualification          -0.007925 -0.012083 -0.011881  0.028744 -0.003659   \n",
       "N                         -0.013261  0.034398  0.012146 -0.059558  0.014027   \n",
       "\n",
       "                               easy      hard  intermediate         F  \\\n",
       "program_duration          -0.054852  0.145995     -0.057659 -0.113637   \n",
       "test_id                    0.141249  0.156889     -0.261721 -0.284986   \n",
       "trainee_id                 0.005548  0.062512     -0.058477 -0.022971   \n",
       "city_tier                  0.025615 -0.023306     -0.003146  0.069017   \n",
       "age                        0.021373 -0.018228     -0.007692  0.016918   \n",
       "total_programs_enrolled   -0.073066  0.020790      0.064855 -0.059886   \n",
       "trainee_engagement_rating -0.047203  0.172714     -0.075525 -0.267887   \n",
       "T                          0.001699 -0.132795      0.137407  0.488979   \n",
       "U                          0.061902 -0.140052     -0.017280 -0.151336   \n",
       "V                         -0.103947 -0.051226      0.082443 -0.056645   \n",
       "X                         -0.240504  0.352268      0.007527 -0.154867   \n",
       "Y                         -0.000770  0.177053     -0.093715 -0.378301   \n",
       "Z                          0.286574 -0.127778     -0.198112  0.224936   \n",
       "offline                   -0.748510  0.333748      0.517455 -0.000360   \n",
       "easy                       1.000000 -0.445883     -0.691313  0.093411   \n",
       "hard                      -0.445883  1.000000     -0.254015 -0.154197   \n",
       "intermediate              -0.691313 -0.254015      1.000000  0.030054   \n",
       "F                          0.093411 -0.154197      0.030054  1.000000   \n",
       "Bachelors                 -0.034314  0.019246      0.012122 -0.063700   \n",
       "High School Diploma       -0.021413  0.006502      0.011275  0.002630   \n",
       "Matriculation              0.047022 -0.018275     -0.021738  0.045851   \n",
       "No Qualification           0.011909 -0.012874     -0.000448  0.028986   \n",
       "N                         -0.031432  0.029403      0.009280 -0.048193   \n",
       "\n",
       "                           Bachelors  High School Diploma  Matriculation  \\\n",
       "program_duration            0.013227            -0.006534       0.002050   \n",
       "test_id                    -0.060095            -0.032159       0.080843   \n",
       "trainee_id                  0.036559            -0.030984       0.005436   \n",
       "city_tier                  -0.062149            -0.022944       0.070832   \n",
       "age                         0.097556            -0.077900      -0.000072   \n",
       "total_programs_enrolled     0.015105             0.055932      -0.067094   \n",
       "trainee_engagement_rating   0.062283            -0.015002      -0.032621   \n",
       "T                          -0.037279            -0.006888       0.037590   \n",
       "U                           0.091106             0.017285      -0.095991   \n",
       "V                           0.032189             0.033701      -0.058583   \n",
       "X                           0.025176            -0.005099      -0.013634   \n",
       "Y                          -0.011094             0.006957       0.004320   \n",
       "Z                          -0.101825            -0.066877       0.146084   \n",
       "offline                     0.018621             0.008126      -0.021900   \n",
       "easy                       -0.034314            -0.021413       0.047022   \n",
       "hard                        0.019246             0.006502      -0.018275   \n",
       "intermediate                0.012122             0.011275      -0.021738   \n",
       "F                          -0.063700             0.002630       0.045851   \n",
       "Bachelors                   1.000000            -0.408336      -0.323705   \n",
       "High School Diploma        -0.408336             1.000000      -0.702685   \n",
       "Matriculation              -0.323705            -0.702685       1.000000   \n",
       "No Qualification           -0.036485            -0.079201      -0.062786   \n",
       "N                           0.081103            -0.007073      -0.062396   \n",
       "\n",
       "                           No Qualification         N  \n",
       "program_duration                  -0.024284  0.009341  \n",
       "test_id                            0.001125 -0.027875  \n",
       "trainee_id                         0.004801  0.017874  \n",
       "city_tier                          0.063279 -0.060323  \n",
       "age                               -0.015095  0.020030  \n",
       "total_programs_enrolled            0.001564 -0.029886  \n",
       "trainee_engagement_rating         -0.013781  0.034080  \n",
       "T                                  0.015560 -0.000013  \n",
       "U                                 -0.007922  0.022200  \n",
       "V                                 -0.007925 -0.013261  \n",
       "X                                 -0.012083  0.034398  \n",
       "Y                                 -0.011881  0.012146  \n",
       "Z                                  0.028744 -0.059558  \n",
       "offline                           -0.003659  0.014027  \n",
       "easy                               0.011909 -0.031432  \n",
       "hard                              -0.012874  0.029403  \n",
       "intermediate                      -0.000448  0.009280  \n",
       "F                                  0.028986 -0.048193  \n",
       "Bachelors                         -0.036485  0.081103  \n",
       "High School Diploma               -0.079201 -0.007073  \n",
       "Matriculation                     -0.062786 -0.062396  \n",
       "No Qualification                   1.000000  0.019557  \n",
       "N                                  0.019557  1.000000  "
      ]
     },
     "execution_count": 64,
     "metadata": {},
     "output_type": "execute_result"
    }
   ],
   "source": [
    "X.corr()"
   ]
  },
  {
   "cell_type": "code",
   "execution_count": 65,
   "metadata": {},
   "outputs": [],
   "source": [
    "X.drop(['High School Diploma','Matriculation','N'],axis=1,inplace=True)"
   ]
  },
  {
   "cell_type": "code",
   "execution_count": 23,
   "metadata": {},
   "outputs": [],
   "source": [
    "#seperate the dependant and independant variable, for simplicity \n",
    "y = train.pop('is_pass')"
   ]
  },
  {
   "cell_type": "code",
   "execution_count": 24,
   "metadata": {},
   "outputs": [],
   "source": [
    "X = train.copy()"
   ]
  },
  {
   "cell_type": "code",
   "execution_count": 25,
   "metadata": {},
   "outputs": [
    {
     "name": "stdout",
     "output_type": "stream",
     "text": [
      "(73147, 23) (73147,)\n"
     ]
    }
   ],
   "source": [
    "print(X.shape,y.shape)"
   ]
  },
  {
   "cell_type": "code",
   "execution_count": 26,
   "metadata": {},
   "outputs": [
    {
     "name": "stdout",
     "output_type": "stream",
     "text": [
      "['program_duration', 'test_id', 'trainee_id', 'city_tier', 'age', 'total_programs_enrolled', 'trainee_engagement_rating', 'T', 'U', 'V', 'X', 'Y', 'Z', 'offline', 'easy', 'hard', 'intermediate', 'F', 'Bachelors', 'High School Diploma', 'Matriculation', 'No Qualification', 'N']\n"
     ]
    }
   ],
   "source": [
    "print(X.columns.tolist())\n"
   ]
  },
  {
   "cell_type": "code",
   "execution_count": 66,
   "metadata": {
    "scrolled": true
   },
   "outputs": [],
   "source": [
    "from imblearn.combine import SMOTETomek"
   ]
  },
  {
   "cell_type": "code",
   "execution_count": 67,
   "metadata": {},
   "outputs": [],
   "source": [
    "smk = SMOTETomek(random_state=42)\n",
    "X_res,y_res=smk.fit_sample(X,y)"
   ]
  },
  {
   "cell_type": "code",
   "execution_count": 68,
   "metadata": {},
   "outputs": [
    {
     "data": {
      "text/plain": [
       "((92880, 20), (92880,))"
      ]
     },
     "execution_count": 68,
     "metadata": {},
     "output_type": "execute_result"
    }
   ],
   "source": [
    "X_res.shape,y_res.shape\n"
   ]
  },
  {
   "cell_type": "code",
   "execution_count": null,
   "metadata": {},
   "outputs": [],
   "source": []
  },
  {
   "cell_type": "code",
   "execution_count": null,
   "metadata": {},
   "outputs": [],
   "source": []
  },
  {
   "cell_type": "markdown",
   "metadata": {},
   "source": [
    "### Logistic Regression"
   ]
  },
  {
   "cell_type": "code",
   "execution_count": 41,
   "metadata": {},
   "outputs": [],
   "source": [
    "from sklearn.linear_model import LogisticRegression\n",
    "logisticRegr = LogisticRegression(penalty = 'l2', C = 10,random_state = 0,max_iter=1000)"
   ]
  },
  {
   "cell_type": "code",
   "execution_count": 42,
   "metadata": {
    "scrolled": false
   },
   "outputs": [
    {
     "data": {
      "text/plain": [
       "LogisticRegression(C=10, class_weight=None, dual=False, fit_intercept=True,\n",
       "                   intercept_scaling=1, l1_ratio=None, max_iter=1000,\n",
       "                   multi_class='auto', n_jobs=None, penalty='l2',\n",
       "                   random_state=0, solver='lbfgs', tol=0.0001, verbose=0,\n",
       "                   warm_start=False)"
      ]
     },
     "execution_count": 42,
     "metadata": {},
     "output_type": "execute_result"
    }
   ],
   "source": [
    "logisticRegr.fit(X_res, y_res)"
   ]
  },
  {
   "cell_type": "code",
   "execution_count": 43,
   "metadata": {
    "scrolled": false
   },
   "outputs": [],
   "source": [
    "predictions  = logisticRegr.predict(test)"
   ]
  },
  {
   "cell_type": "markdown",
   "metadata": {},
   "source": [
    " ### Random Forest "
   ]
  },
  {
   "cell_type": "code",
   "execution_count": 50,
   "metadata": {},
   "outputs": [],
   "source": [
    "from sklearn.ensemble import RandomForestClassifier"
   ]
  },
  {
   "cell_type": "code",
   "execution_count": null,
   "metadata": {},
   "outputs": [],
   "source": [
    "{'bootstrap': True,\n",
    " 'criterion': 'gini',\n",
    " 'max_depth': None,\n",
    " 'max_features': 1,\n",
    " 'min_samples_leaf': 3,\n",
    " 'n_estimators': 300}"
   ]
  },
  {
   "cell_type": "code",
   "execution_count": 77,
   "metadata": {},
   "outputs": [],
   "source": [
    "model = RandomForestClassifier(n_jobs=-1,random_state=50,oob_score=True,criterion='gini',max_depth=10,max_features=0.4,min_samples_leaf=200,n_estimators=1000)"
   ]
  },
  {
   "cell_type": "code",
   "execution_count": 57,
   "metadata": {},
   "outputs": [],
   "source": [
    "model = RandomForestClassifier(criterion='gini',n_estimators=500)"
   ]
  },
  {
   "cell_type": "code",
   "execution_count": 78,
   "metadata": {
    "scrolled": true
   },
   "outputs": [
    {
     "data": {
      "text/plain": [
       "RandomForestClassifier(bootstrap=True, ccp_alpha=0.0, class_weight=None,\n",
       "                       criterion='gini', max_depth=10, max_features=0.4,\n",
       "                       max_leaf_nodes=None, max_samples=None,\n",
       "                       min_impurity_decrease=0.0, min_impurity_split=None,\n",
       "                       min_samples_leaf=200, min_samples_split=2,\n",
       "                       min_weight_fraction_leaf=0.0, n_estimators=1000,\n",
       "                       n_jobs=-1, oob_score=True, random_state=50, verbose=0,\n",
       "                       warm_start=False)"
      ]
     },
     "execution_count": 78,
     "metadata": {},
     "output_type": "execute_result"
    }
   ],
   "source": [
    "%%timeit\n",
    "model.fit(X_res, y_res)"
   ]
  },
  {
   "cell_type": "code",
   "execution_count": 73,
   "metadata": {},
   "outputs": [
    {
     "name": "stdout",
     "output_type": "stream",
     "text": [
      "Number of Trees used :  500\n"
     ]
    }
   ],
   "source": [
    "print('Number of Trees used : ', model.n_estimators)"
   ]
  },
  {
   "cell_type": "code",
   "execution_count": 72,
   "metadata": {},
   "outputs": [],
   "source": [
    "test.drop(['High School Diploma','Matriculation','N'],axis=1,inplace=True)"
   ]
  },
  {
   "cell_type": "code",
   "execution_count": 79,
   "metadata": {},
   "outputs": [
    {
     "name": "stdout",
     "output_type": "stream",
     "text": [
      "Wall time: 1.04 s\n"
     ]
    }
   ],
   "source": [
    "%%time\n",
    "predictions = model.predict(test)"
   ]
  },
  {
   "cell_type": "markdown",
   "metadata": {},
   "source": [
    "## Next Attempt"
   ]
  },
  {
   "cell_type": "code",
   "execution_count": 246,
   "metadata": {},
   "outputs": [],
   "source": [
    "from sklearn.model_selection import RepeatedStratifiedKFold\n",
    "from sklearn.model_selection import GridSearchCV"
   ]
  },
  {
   "cell_type": "code",
   "execution_count": 244,
   "metadata": {},
   "outputs": [],
   "source": [
    "# define models and parameters\n",
    "model = RandomForestClassifier()\n",
    "n_estimators = [10, 100, 1000]\n",
    "max_features = ['sqrt', 'log2']"
   ]
  },
  {
   "cell_type": "code",
   "execution_count": null,
   "metadata": {},
   "outputs": [],
   "source": [
    "# define grid search\n",
    "grid = dict(n_estimators=n_estimators,max_features=max_features)\n",
    "cv = RepeatedStratifiedKFold(n_splits=10, n_repeats=3, random_state=1)\n",
    "grid_search = GridSearchCV(estimator=model, param_grid=grid, n_jobs=-1, cv=cv, scoring='accuracy',error_score=0)\n",
    "grid_result = grid_search.fit(X, y)"
   ]
  },
  {
   "cell_type": "markdown",
   "metadata": {},
   "source": [
    "## Applying other models"
   ]
  },
  {
   "cell_type": "code",
   "execution_count": 95,
   "metadata": {},
   "outputs": [],
   "source": [
    "from sklearn.ensemble import GradientBoostingClassifier\n",
    "model = GradientBoostingClassifier(n_estimators=100,max_depth=5)"
   ]
  },
  {
   "cell_type": "code",
   "execution_count": 101,
   "metadata": {},
   "outputs": [
    {
     "data": {
      "text/plain": [
       "GradientBoostingClassifier(ccp_alpha=0.0, criterion='friedman_mse', init=None,\n",
       "                           learning_rate=0.1, loss='deviance', max_depth=5,\n",
       "                           max_features=None, max_leaf_nodes=None,\n",
       "                           min_impurity_decrease=0.0, min_impurity_split=None,\n",
       "                           min_samples_leaf=1, min_samples_split=2,\n",
       "                           min_weight_fraction_leaf=0.0, n_estimators=100,\n",
       "                           n_iter_no_change=None, presort='deprecated',\n",
       "                           random_state=None, subsample=1.0, tol=0.0001,\n",
       "                           validation_fraction=0.1, verbose=0,\n",
       "                           warm_start=False)"
      ]
     },
     "execution_count": 101,
     "metadata": {},
     "output_type": "execute_result"
    }
   ],
   "source": [
    "model.fit(X,y)"
   ]
  },
  {
   "cell_type": "code",
   "execution_count": 102,
   "metadata": {},
   "outputs": [],
   "source": [
    "predictions = model.predict(test)"
   ]
  },
  {
   "cell_type": "code",
   "execution_count": null,
   "metadata": {},
   "outputs": [],
   "source": []
  },
  {
   "cell_type": "code",
   "execution_count": 107,
   "metadata": {},
   "outputs": [],
   "source": [
    "from xgboost import XGBClassifier\n",
    "model = XGBClassifier()\n"
   ]
  },
  {
   "cell_type": "code",
   "execution_count": 108,
   "metadata": {},
   "outputs": [
    {
     "data": {
      "text/plain": [
       "XGBClassifier(base_score=0.5, booster=None, colsample_bylevel=1,\n",
       "              colsample_bynode=1, colsample_bytree=1, gamma=0, gpu_id=-1,\n",
       "              importance_type='gain', interaction_constraints=None,\n",
       "              learning_rate=0.300000012, max_delta_step=0, max_depth=6,\n",
       "              min_child_weight=1, missing=nan, monotone_constraints=None,\n",
       "              n_estimators=100, n_jobs=0, num_parallel_tree=1,\n",
       "              objective='binary:logistic', random_state=0, reg_alpha=0,\n",
       "              reg_lambda=1, scale_pos_weight=1, subsample=1, tree_method=None,\n",
       "              validate_parameters=False, verbosity=None)"
      ]
     },
     "execution_count": 108,
     "metadata": {},
     "output_type": "execute_result"
    }
   ],
   "source": [
    "model.fit(X_res,y_res)"
   ]
  },
  {
   "cell_type": "code",
   "execution_count": 109,
   "metadata": {},
   "outputs": [],
   "source": [
    "predictions = model.predict(test)"
   ]
  },
  {
   "cell_type": "code",
   "execution_count": null,
   "metadata": {},
   "outputs": [],
   "source": []
  },
  {
   "cell_type": "markdown",
   "metadata": {},
   "source": [
    "## Part to make the solution file "
   ]
  },
  {
   "cell_type": "code",
   "execution_count": 44,
   "metadata": {
    "scrolled": true
   },
   "outputs": [
    {
     "data": {
      "text/html": [
       "<div>\n",
       "<style scoped>\n",
       "    .dataframe tbody tr th:only-of-type {\n",
       "        vertical-align: middle;\n",
       "    }\n",
       "\n",
       "    .dataframe tbody tr th {\n",
       "        vertical-align: top;\n",
       "    }\n",
       "\n",
       "    .dataframe thead th {\n",
       "        text-align: right;\n",
       "    }\n",
       "</style>\n",
       "<table border=\"1\" class=\"dataframe\">\n",
       "  <thead>\n",
       "    <tr style=\"text-align: right;\">\n",
       "      <th></th>\n",
       "      <th>id</th>\n",
       "      <th>program_id</th>\n",
       "      <th>program_type</th>\n",
       "      <th>program_duration</th>\n",
       "      <th>test_id</th>\n",
       "      <th>test_type</th>\n",
       "      <th>difficulty_level</th>\n",
       "      <th>trainee_id</th>\n",
       "      <th>gender</th>\n",
       "      <th>education</th>\n",
       "      <th>city_tier</th>\n",
       "      <th>age</th>\n",
       "      <th>total_programs_enrolled</th>\n",
       "      <th>is_handicapped</th>\n",
       "      <th>trainee_engagement_rating</th>\n",
       "    </tr>\n",
       "  </thead>\n",
       "  <tbody>\n",
       "    <tr>\n",
       "      <td>0</td>\n",
       "      <td>1626_45</td>\n",
       "      <td>T_1</td>\n",
       "      <td>T</td>\n",
       "      <td>131</td>\n",
       "      <td>45</td>\n",
       "      <td>offline</td>\n",
       "      <td>intermediate</td>\n",
       "      <td>1626</td>\n",
       "      <td>F</td>\n",
       "      <td>Matriculation</td>\n",
       "      <td>3</td>\n",
       "      <td>46.0</td>\n",
       "      <td>2</td>\n",
       "      <td>N</td>\n",
       "      <td>4.0</td>\n",
       "    </tr>\n",
       "    <tr>\n",
       "      <td>1</td>\n",
       "      <td>11020_130</td>\n",
       "      <td>Y_3</td>\n",
       "      <td>Y</td>\n",
       "      <td>135</td>\n",
       "      <td>130</td>\n",
       "      <td>online</td>\n",
       "      <td>easy</td>\n",
       "      <td>11020</td>\n",
       "      <td>M</td>\n",
       "      <td>Bachelors</td>\n",
       "      <td>3</td>\n",
       "      <td>NaN</td>\n",
       "      <td>4</td>\n",
       "      <td>N</td>\n",
       "      <td>4.0</td>\n",
       "    </tr>\n",
       "    <tr>\n",
       "      <td>2</td>\n",
       "      <td>12652_146</td>\n",
       "      <td>Y_2</td>\n",
       "      <td>Y</td>\n",
       "      <td>120</td>\n",
       "      <td>146</td>\n",
       "      <td>online</td>\n",
       "      <td>easy</td>\n",
       "      <td>12652</td>\n",
       "      <td>M</td>\n",
       "      <td>Matriculation</td>\n",
       "      <td>3</td>\n",
       "      <td>NaN</td>\n",
       "      <td>2</td>\n",
       "      <td>N</td>\n",
       "      <td>3.0</td>\n",
       "    </tr>\n",
       "    <tr>\n",
       "      <td>3</td>\n",
       "      <td>7038_72</td>\n",
       "      <td>V_4</td>\n",
       "      <td>V</td>\n",
       "      <td>122</td>\n",
       "      <td>72</td>\n",
       "      <td>offline</td>\n",
       "      <td>vary hard</td>\n",
       "      <td>7038</td>\n",
       "      <td>F</td>\n",
       "      <td>High School Diploma</td>\n",
       "      <td>1</td>\n",
       "      <td>NaN</td>\n",
       "      <td>2</td>\n",
       "      <td>N</td>\n",
       "      <td>2.0</td>\n",
       "    </tr>\n",
       "    <tr>\n",
       "      <td>4</td>\n",
       "      <td>888_71</td>\n",
       "      <td>V_4</td>\n",
       "      <td>V</td>\n",
       "      <td>122</td>\n",
       "      <td>71</td>\n",
       "      <td>offline</td>\n",
       "      <td>intermediate</td>\n",
       "      <td>888</td>\n",
       "      <td>F</td>\n",
       "      <td>Matriculation</td>\n",
       "      <td>3</td>\n",
       "      <td>NaN</td>\n",
       "      <td>2</td>\n",
       "      <td>N</td>\n",
       "      <td>2.0</td>\n",
       "    </tr>\n",
       "  </tbody>\n",
       "</table>\n",
       "</div>"
      ],
      "text/plain": [
       "          id program_id program_type  program_duration  test_id test_type  \\\n",
       "0    1626_45        T_1            T               131       45   offline   \n",
       "1  11020_130        Y_3            Y               135      130    online   \n",
       "2  12652_146        Y_2            Y               120      146    online   \n",
       "3    7038_72        V_4            V               122       72   offline   \n",
       "4     888_71        V_4            V               122       71   offline   \n",
       "\n",
       "  difficulty_level  trainee_id gender            education  city_tier   age  \\\n",
       "0     intermediate        1626      F        Matriculation          3  46.0   \n",
       "1             easy       11020      M            Bachelors          3   NaN   \n",
       "2             easy       12652      M        Matriculation          3   NaN   \n",
       "3        vary hard        7038      F  High School Diploma          1   NaN   \n",
       "4     intermediate         888      F        Matriculation          3   NaN   \n",
       "\n",
       "   total_programs_enrolled is_handicapped  trainee_engagement_rating  \n",
       "0                        2              N                        4.0  \n",
       "1                        4              N                        4.0  \n",
       "2                        2              N                        3.0  \n",
       "3                        2              N                        2.0  \n",
       "4                        2              N                        2.0  "
      ]
     },
     "execution_count": 44,
     "metadata": {},
     "output_type": "execute_result"
    }
   ],
   "source": [
    "test_main  = pd.read_csv(\"test_wF0Ps6O.csv\")\n",
    "test_main.head()"
   ]
  },
  {
   "cell_type": "code",
   "execution_count": 45,
   "metadata": {},
   "outputs": [],
   "source": [
    "test_id = test_main.pop('id')\n",
    "test_id = pd.DataFrame(test_id)"
   ]
  },
  {
   "cell_type": "code",
   "execution_count": 110,
   "metadata": {
    "scrolled": false
   },
   "outputs": [
    {
     "data": {
      "text/html": [
       "<div>\n",
       "<style scoped>\n",
       "    .dataframe tbody tr th:only-of-type {\n",
       "        vertical-align: middle;\n",
       "    }\n",
       "\n",
       "    .dataframe tbody tr th {\n",
       "        vertical-align: top;\n",
       "    }\n",
       "\n",
       "    .dataframe thead th {\n",
       "        text-align: right;\n",
       "    }\n",
       "</style>\n",
       "<table border=\"1\" class=\"dataframe\">\n",
       "  <thead>\n",
       "    <tr style=\"text-align: right;\">\n",
       "      <th></th>\n",
       "      <th>is_pass</th>\n",
       "    </tr>\n",
       "  </thead>\n",
       "  <tbody>\n",
       "    <tr>\n",
       "      <td>0</td>\n",
       "      <td>1</td>\n",
       "    </tr>\n",
       "    <tr>\n",
       "      <td>1</td>\n",
       "      <td>1</td>\n",
       "    </tr>\n",
       "    <tr>\n",
       "      <td>2</td>\n",
       "      <td>1</td>\n",
       "    </tr>\n",
       "    <tr>\n",
       "      <td>3</td>\n",
       "      <td>0</td>\n",
       "    </tr>\n",
       "    <tr>\n",
       "      <td>4</td>\n",
       "      <td>1</td>\n",
       "    </tr>\n",
       "  </tbody>\n",
       "</table>\n",
       "</div>"
      ],
      "text/plain": [
       "   is_pass\n",
       "0        1\n",
       "1        1\n",
       "2        1\n",
       "3        0\n",
       "4        1"
      ]
     },
     "execution_count": 110,
     "metadata": {},
     "output_type": "execute_result"
    }
   ],
   "source": [
    "predictions  = pd.DataFrame(predictions,columns=['is_pass'])\n",
    "predictions.head()"
   ]
  },
  {
   "cell_type": "code",
   "execution_count": 111,
   "metadata": {},
   "outputs": [],
   "source": [
    "submission = pd.concat([test_id,predictions],axis=1)"
   ]
  },
  {
   "cell_type": "code",
   "execution_count": 112,
   "metadata": {},
   "outputs": [],
   "source": [
    "submission.to_csv('submission_16.csv',index=False)"
   ]
  },
  {
   "cell_type": "code",
   "execution_count": null,
   "metadata": {},
   "outputs": [],
   "source": []
  }
 ],
 "metadata": {
  "kernelspec": {
   "display_name": "Python 3",
   "language": "python",
   "name": "python3"
  },
  "language_info": {
   "codemirror_mode": {
    "name": "ipython",
    "version": 3
   },
   "file_extension": ".py",
   "mimetype": "text/x-python",
   "name": "python",
   "nbconvert_exporter": "python",
   "pygments_lexer": "ipython3",
   "version": "3.7.4"
  }
 },
 "nbformat": 4,
 "nbformat_minor": 2
}
